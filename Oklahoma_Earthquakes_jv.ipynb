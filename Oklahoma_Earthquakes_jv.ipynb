{
 "nbformat": 4,
 "nbformat_minor": 2,
 "metadata": {
  "language_info": {
   "name": "python",
   "codemirror_mode": {
    "name": "ipython",
    "version": 3
   },
   "version": "3.7.4-final"
  },
  "orig_nbformat": 2,
  "file_extension": ".py",
  "mimetype": "text/x-python",
  "name": "python",
  "npconvert_exporter": "python",
  "pygments_lexer": "ipython3",
  "version": 3,
  "kernelspec": {
   "name": "python3",
   "display_name": "Python 3"
  }
 },
 "cells": [
  {
   "cell_type": "code",
   "execution_count": 51,
   "metadata": {},
   "outputs": [],
   "source": [
    "import matplotlib.pyplot as plt\n",
    "import pandas as pd\n",
    "import numpy as np\n",
    "\n",
    "ok_wells = './resources/InjectionWells.csv'\n",
    "ok_quakes = './resources/okQuakes.csv'\n",
    "\n",
    "wells_df = pd.read_csv(ok_wells)\n",
    "quakes_df = pd.read_csv(ok_quakes)\n"
   ]
  },
  {
   "cell_type": "code",
   "execution_count": 52,
   "metadata": {},
   "outputs": [],
   "source": [
    "# Cleaning Data\n",
    "wells_df.dropna()\n",
    "wells_df.drop_duplicates()\n",
    "quakes_df.dropna()\n",
    "quakes_df.drop_duplicates()\n",
    "# https://stackoverflow.com/questions/18172851/deleting-dataframe-row-in-pandas-based-on-column-value\n",
    "wells_df = wells_df[wells_df.LAT !=0]\n",
    "places = quakes_df[\"place\"].unique()\n",
    "quakes_df = quakes_df.loc[quakes_df['place'].str.contains(\"Oklahoma\")]\n",
    "\n"
   ]
  },
  {
   "cell_type": "code",
   "execution_count": 53,
   "metadata": {},
   "outputs": [
    {
     "name": "stdout",
     "output_type": "stream",
     "text": "7854\n11075\n"
    }
   ],
   "source": [
    "# comparing \n",
    "print(len(quakes_df))\n",
    "print(len(wells_df))\n"
   ]
  },
  {
   "cell_type": "code",
   "execution_count": 54,
   "metadata": {},
   "outputs": [
    {
     "data": {
      "text/html": "<div>\n<style scoped>\n    .dataframe tbody tr th:only-of-type {\n        vertical-align: middle;\n    }\n\n    .dataframe tbody tr th {\n        vertical-align: top;\n    }\n\n    .dataframe thead th {\n        text-align: right;\n    }\n</style>\n<table border=\"1\" class=\"dataframe\">\n  <thead>\n    <tr style=\"text-align: right;\">\n      <th></th>\n      <th>time</th>\n      <th>lat</th>\n      <th>lng</th>\n      <th>depth</th>\n      <th>mag</th>\n      <th>magType</th>\n      <th>nst</th>\n      <th>gap</th>\n      <th>dmin</th>\n      <th>rms</th>\n      <th>...</th>\n      <th>updated</th>\n      <th>place</th>\n      <th>type</th>\n      <th>horizontalError</th>\n      <th>depthError</th>\n      <th>magError</th>\n      <th>magNst</th>\n      <th>status</th>\n      <th>locationSource</th>\n      <th>magSource</th>\n    </tr>\n  </thead>\n  <tbody>\n    <tr>\n      <td>4</td>\n      <td>1974-02-15T13:33:49.200Z</td>\n      <td>36.0</td>\n      <td>-101.0</td>\n      <td>24.00</td>\n      <td>4.5</td>\n      <td>mb</td>\n      <td>NaN</td>\n      <td>NaN</td>\n      <td>NaN</td>\n      <td>NaN</td>\n      <td>...</td>\n      <td>2014-11-06T23:21:22.859Z</td>\n      <td>Oklahoma</td>\n      <td>earthquake</td>\n      <td>NaN</td>\n      <td>NaN</td>\n      <td>NaN</td>\n      <td>NaN</td>\n      <td>reviewed</td>\n      <td>us</td>\n      <td>us</td>\n    </tr>\n    <tr>\n      <td>21</td>\n      <td>1974-12-16T02:30:21.400Z</td>\n      <td>35.0</td>\n      <td>-97.0</td>\n      <td>10.00</td>\n      <td>2.6</td>\n      <td>ml</td>\n      <td>NaN</td>\n      <td>NaN</td>\n      <td>NaN</td>\n      <td>NaN</td>\n      <td>...</td>\n      <td>2014-11-06T23:21:27.851Z</td>\n      <td>Oklahoma</td>\n      <td>earthquake</td>\n      <td>NaN</td>\n      <td>NaN</td>\n      <td>NaN</td>\n      <td>NaN</td>\n      <td>reviewed</td>\n      <td>m</td>\n      <td>tul</td>\n    </tr>\n    <tr>\n      <td>33</td>\n      <td>1975-09-13T01:25:02.800Z</td>\n      <td>34.0</td>\n      <td>-97.0</td>\n      <td>5.00</td>\n      <td>3.4</td>\n      <td>lg</td>\n      <td>NaN</td>\n      <td>NaN</td>\n      <td>NaN</td>\n      <td>NaN</td>\n      <td>...</td>\n      <td>2014-11-06T23:21:31.918Z</td>\n      <td>Oklahoma</td>\n      <td>earthquake</td>\n      <td>NaN</td>\n      <td>NaN</td>\n      <td>NaN</td>\n      <td>NaN</td>\n      <td>reviewed</td>\n      <td>us</td>\n      <td>tul</td>\n    </tr>\n    <tr>\n      <td>35</td>\n      <td>1975-10-12T02:58:11.200Z</td>\n      <td>35.0</td>\n      <td>-97.0</td>\n      <td>20.00</td>\n      <td>3.2</td>\n      <td>lg</td>\n      <td>NaN</td>\n      <td>NaN</td>\n      <td>NaN</td>\n      <td>NaN</td>\n      <td>...</td>\n      <td>2014-11-06T23:21:32.248Z</td>\n      <td>Oklahoma</td>\n      <td>earthquake</td>\n      <td>NaN</td>\n      <td>NaN</td>\n      <td>NaN</td>\n      <td>NaN</td>\n      <td>reviewed</td>\n      <td>us</td>\n      <td>tul</td>\n    </tr>\n    <tr>\n      <td>36</td>\n      <td>1975-11-29T14:29:40.900Z</td>\n      <td>35.0</td>\n      <td>-97.0</td>\n      <td>5.00</td>\n      <td>3.5</td>\n      <td>lg</td>\n      <td>NaN</td>\n      <td>NaN</td>\n      <td>NaN</td>\n      <td>NaN</td>\n      <td>...</td>\n      <td>2014-11-06T23:21:32.839Z</td>\n      <td>Oklahoma</td>\n      <td>earthquake</td>\n      <td>NaN</td>\n      <td>NaN</td>\n      <td>NaN</td>\n      <td>NaN</td>\n      <td>reviewed</td>\n      <td>us</td>\n      <td>slm</td>\n    </tr>\n    <tr>\n      <td>...</td>\n      <td>...</td>\n      <td>...</td>\n      <td>...</td>\n      <td>...</td>\n      <td>...</td>\n      <td>...</td>\n      <td>...</td>\n      <td>...</td>\n      <td>...</td>\n      <td>...</td>\n      <td>...</td>\n      <td>...</td>\n      <td>...</td>\n      <td>...</td>\n      <td>...</td>\n      <td>...</td>\n      <td>...</td>\n      <td>...</td>\n      <td>...</td>\n      <td>...</td>\n      <td>...</td>\n    </tr>\n    <tr>\n      <td>13940</td>\n      <td>2016-09-20T04:59:11.140Z</td>\n      <td>37.0</td>\n      <td>-98.0</td>\n      <td>2.62</td>\n      <td>3.9</td>\n      <td>mwr</td>\n      <td>NaN</td>\n      <td>18.0</td>\n      <td>0.063</td>\n      <td>0.46</td>\n      <td>...</td>\n      <td>2016-09-20T19:15:48.944Z</td>\n      <td>Oklahoma</td>\n      <td>earthquake</td>\n      <td>0.8</td>\n      <td>5.7</td>\n      <td>0.036</td>\n      <td>75.0</td>\n      <td>reviewed</td>\n      <td>us</td>\n      <td>us</td>\n    </tr>\n    <tr>\n      <td>13941</td>\n      <td>2016-09-20T05:38:38.350Z</td>\n      <td>36.0</td>\n      <td>-97.0</td>\n      <td>4.69</td>\n      <td>2.3</td>\n      <td>ml</td>\n      <td>NaN</td>\n      <td>54.0</td>\n      <td>0.018</td>\n      <td>0.16</td>\n      <td>...</td>\n      <td>2016-09-20T16:13:04.040Z</td>\n      <td>Oklahoma</td>\n      <td>earthquake</td>\n      <td>0.9</td>\n      <td>1.8</td>\n      <td>0.059</td>\n      <td>38.0</td>\n      <td>reviewed</td>\n      <td>us</td>\n      <td>us</td>\n    </tr>\n    <tr>\n      <td>13942</td>\n      <td>2016-09-20T06:36:35.520Z</td>\n      <td>36.0</td>\n      <td>-97.0</td>\n      <td>4.41</td>\n      <td>1.4</td>\n      <td>ml</td>\n      <td>NaN</td>\n      <td>59.0</td>\n      <td>0.025</td>\n      <td>0.18</td>\n      <td>...</td>\n      <td>2016-09-20T16:21:03.040Z</td>\n      <td>Oklahoma</td>\n      <td>earthquake</td>\n      <td>0.8</td>\n      <td>2.0</td>\n      <td>0.062</td>\n      <td>34.0</td>\n      <td>reviewed</td>\n      <td>us</td>\n      <td>us</td>\n    </tr>\n    <tr>\n      <td>13944</td>\n      <td>2016-09-20T17:31:48.380Z</td>\n      <td>37.0</td>\n      <td>-98.0</td>\n      <td>2.32</td>\n      <td>3.0</td>\n      <td>mb_lg</td>\n      <td>NaN</td>\n      <td>37.0</td>\n      <td>0.056</td>\n      <td>0.18</td>\n      <td>...</td>\n      <td>2016-09-20T17:43:43.040Z</td>\n      <td>Oklahoma</td>\n      <td>earthquake</td>\n      <td>1.0</td>\n      <td>3.7</td>\n      <td>0.076</td>\n      <td>45.0</td>\n      <td>reviewed</td>\n      <td>us</td>\n      <td>us</td>\n    </tr>\n    <tr>\n      <td>13945</td>\n      <td>2016-09-20T17:45:59.920Z</td>\n      <td>37.0</td>\n      <td>-98.0</td>\n      <td>7.20</td>\n      <td>2.5</td>\n      <td>mb_lg</td>\n      <td>NaN</td>\n      <td>39.0</td>\n      <td>0.048</td>\n      <td>0.35</td>\n      <td>...</td>\n      <td>2016-09-20T19:48:57.396Z</td>\n      <td>Oklahoma</td>\n      <td>earthquake</td>\n      <td>1.0</td>\n      <td>3.4</td>\n      <td>0.170</td>\n      <td>9.0</td>\n      <td>reviewed</td>\n      <td>us</td>\n      <td>us</td>\n    </tr>\n  </tbody>\n</table>\n<p>7854 rows × 22 columns</p>\n</div>",
      "text/plain": "                           time   lat    lng  depth  mag magType  nst   gap  \\\n4      1974-02-15T13:33:49.200Z  36.0 -101.0  24.00  4.5      mb  NaN   NaN   \n21     1974-12-16T02:30:21.400Z  35.0  -97.0  10.00  2.6      ml  NaN   NaN   \n33     1975-09-13T01:25:02.800Z  34.0  -97.0   5.00  3.4      lg  NaN   NaN   \n35     1975-10-12T02:58:11.200Z  35.0  -97.0  20.00  3.2      lg  NaN   NaN   \n36     1975-11-29T14:29:40.900Z  35.0  -97.0   5.00  3.5      lg  NaN   NaN   \n...                         ...   ...    ...    ...  ...     ...  ...   ...   \n13940  2016-09-20T04:59:11.140Z  37.0  -98.0   2.62  3.9     mwr  NaN  18.0   \n13941  2016-09-20T05:38:38.350Z  36.0  -97.0   4.69  2.3      ml  NaN  54.0   \n13942  2016-09-20T06:36:35.520Z  36.0  -97.0   4.41  1.4      ml  NaN  59.0   \n13944  2016-09-20T17:31:48.380Z  37.0  -98.0   2.32  3.0   mb_lg  NaN  37.0   \n13945  2016-09-20T17:45:59.920Z  37.0  -98.0   7.20  2.5   mb_lg  NaN  39.0   \n\n        dmin   rms  ...                   updated     place        type  \\\n4        NaN   NaN  ...  2014-11-06T23:21:22.859Z  Oklahoma  earthquake   \n21       NaN   NaN  ...  2014-11-06T23:21:27.851Z  Oklahoma  earthquake   \n33       NaN   NaN  ...  2014-11-06T23:21:31.918Z  Oklahoma  earthquake   \n35       NaN   NaN  ...  2014-11-06T23:21:32.248Z  Oklahoma  earthquake   \n36       NaN   NaN  ...  2014-11-06T23:21:32.839Z  Oklahoma  earthquake   \n...      ...   ...  ...                       ...       ...         ...   \n13940  0.063  0.46  ...  2016-09-20T19:15:48.944Z  Oklahoma  earthquake   \n13941  0.018  0.16  ...  2016-09-20T16:13:04.040Z  Oklahoma  earthquake   \n13942  0.025  0.18  ...  2016-09-20T16:21:03.040Z  Oklahoma  earthquake   \n13944  0.056  0.18  ...  2016-09-20T17:43:43.040Z  Oklahoma  earthquake   \n13945  0.048  0.35  ...  2016-09-20T19:48:57.396Z  Oklahoma  earthquake   \n\n      horizontalError depthError  magError  magNst    status  locationSource  \\\n4                 NaN        NaN       NaN     NaN  reviewed              us   \n21                NaN        NaN       NaN     NaN  reviewed               m   \n33                NaN        NaN       NaN     NaN  reviewed              us   \n35                NaN        NaN       NaN     NaN  reviewed              us   \n36                NaN        NaN       NaN     NaN  reviewed              us   \n...               ...        ...       ...     ...       ...             ...   \n13940             0.8        5.7     0.036    75.0  reviewed              us   \n13941             0.9        1.8     0.059    38.0  reviewed              us   \n13942             0.8        2.0     0.062    34.0  reviewed              us   \n13944             1.0        3.7     0.076    45.0  reviewed              us   \n13945             1.0        3.4     0.170     9.0  reviewed              us   \n\n      magSource  \n4            us  \n21          tul  \n33          tul  \n35          tul  \n36          slm  \n...         ...  \n13940        us  \n13941        us  \n13942        us  \n13944        us  \n13945        us  \n\n[7854 rows x 22 columns]"
     },
     "execution_count": 54,
     "metadata": {},
     "output_type": "execute_result"
    }
   ],
   "source": [
    "# round(quakes_df['latitude'],0)\n",
    "quakes_df.rename(columns={'latitude':'lat'}, inplace=True)\n",
    "quakes_df['lat']= round(quakes_df['lat'],0)\n",
    "quakes_df.rename(columns={'longitude':'lng'}, inplace=True)\n",
    "quakes_df['lng']= round(quakes_df['lng'],0)\n",
    "quakes_df"
   ]
  },
  {
   "cell_type": "code",
   "execution_count": 55,
   "metadata": {},
   "outputs": [
    {
     "data": {
      "text/html": "<div>\n<style scoped>\n    .dataframe tbody tr th:only-of-type {\n        vertical-align: middle;\n    }\n\n    .dataframe tbody tr th {\n        vertical-align: top;\n    }\n\n    .dataframe thead th {\n        text-align: right;\n    }\n</style>\n<table border=\"1\" class=\"dataframe\">\n  <thead>\n    <tr style=\"text-align: right;\">\n      <th></th>\n      <th>API#</th>\n      <th>Operator</th>\n      <th>Operator ID</th>\n      <th>WellType</th>\n      <th>WellName</th>\n      <th>WellNumber</th>\n      <th>OrderNumbers</th>\n      <th>Approval Date</th>\n      <th>County</th>\n      <th>Sec</th>\n      <th>...</th>\n      <th>Rng</th>\n      <th>QQQQ</th>\n      <th>lat</th>\n      <th>lng</th>\n      <th>PSI</th>\n      <th>BBLS</th>\n      <th>ZONE</th>\n      <th>Unnamed: 18</th>\n      <th>Unnamed: 19</th>\n      <th>Unnamed: 20</th>\n    </tr>\n  </thead>\n  <tbody>\n    <tr>\n      <td>0</td>\n      <td>3.500300e+09</td>\n      <td>PHOENIX PETROCORP INC</td>\n      <td>19499.0</td>\n      <td>2R</td>\n      <td>SE EUREKA UNIT-TUCKER #1</td>\n      <td>21</td>\n      <td>1.338560e+05</td>\n      <td>9/6/1977</td>\n      <td>ALFALFA</td>\n      <td>13</td>\n      <td>...</td>\n      <td>10W</td>\n      <td>C-SE SE</td>\n      <td>37.0</td>\n      <td>-98.0</td>\n      <td>2,500</td>\n      <td>300</td>\n      <td>CHEROKEE</td>\n      <td>NaN</td>\n      <td>NaN</td>\n      <td>NaN</td>\n    </tr>\n    <tr>\n      <td>1</td>\n      <td>3.500300e+09</td>\n      <td>CHAMPLIN EXPLORATION INC</td>\n      <td>4030.0</td>\n      <td>2R</td>\n      <td>CHRISTENSEN</td>\n      <td>1</td>\n      <td>4.702580e+05</td>\n      <td>11/27/2002</td>\n      <td>ALFALFA</td>\n      <td>21</td>\n      <td>...</td>\n      <td>09W</td>\n      <td>C-NW NW</td>\n      <td>37.0</td>\n      <td>-98.0</td>\n      <td>2,400</td>\n      <td>1,000</td>\n      <td>RED FORK</td>\n      <td>NaN</td>\n      <td>NaN</td>\n      <td>NaN</td>\n    </tr>\n    <tr>\n      <td>2</td>\n      <td>3.500321e+09</td>\n      <td>LINN OPERATING INC</td>\n      <td>22182.0</td>\n      <td>2R</td>\n      <td>NE CHEROKEE UNIT</td>\n      <td>85</td>\n      <td>3.294260e+05</td>\n      <td>8/19/1988</td>\n      <td>ALFALFA</td>\n      <td>24</td>\n      <td>...</td>\n      <td>11W</td>\n      <td>SE NE</td>\n      <td>37.0</td>\n      <td>-98.0</td>\n      <td>1,050</td>\n      <td>1,000</td>\n      <td>RED FORK</td>\n      <td>NaN</td>\n      <td>NaN</td>\n      <td>NaN</td>\n    </tr>\n    <tr>\n      <td>3</td>\n      <td>3.500321e+09</td>\n      <td>SANDRIDGE EXPLORATION &amp; PRODUCTION LLC</td>\n      <td>22281.0</td>\n      <td>2R</td>\n      <td>VELMA</td>\n      <td>2-19</td>\n      <td>2.816520e+05</td>\n      <td>7/11/1985</td>\n      <td>ALFALFA</td>\n      <td>19</td>\n      <td>...</td>\n      <td>10W</td>\n      <td>SW NE NE SW</td>\n      <td>37.0</td>\n      <td>-98.0</td>\n      <td>3,152</td>\n      <td>1,000</td>\n      <td>RED FORK</td>\n      <td>NaN</td>\n      <td>NaN</td>\n      <td>NaN</td>\n    </tr>\n    <tr>\n      <td>4</td>\n      <td>3.500321e+09</td>\n      <td>CHAMPLIN EXPLORATION INC</td>\n      <td>4030.0</td>\n      <td>2R</td>\n      <td>GRAY</td>\n      <td>1A</td>\n      <td>4.702570e+05</td>\n      <td>11/27/2002</td>\n      <td>ALFALFA</td>\n      <td>20</td>\n      <td>...</td>\n      <td>09W</td>\n      <td>SE SW NW</td>\n      <td>37.0</td>\n      <td>-98.0</td>\n      <td>1,000</td>\n      <td>2,400</td>\n      <td>RED FORK</td>\n      <td>NaN</td>\n      <td>NaN</td>\n      <td>NaN</td>\n    </tr>\n    <tr>\n      <td>...</td>\n      <td>...</td>\n      <td>...</td>\n      <td>...</td>\n      <td>...</td>\n      <td>...</td>\n      <td>...</td>\n      <td>...</td>\n      <td>...</td>\n      <td>...</td>\n      <td>...</td>\n      <td>...</td>\n      <td>...</td>\n      <td>...</td>\n      <td>...</td>\n      <td>...</td>\n      <td>...</td>\n      <td>...</td>\n      <td>...</td>\n      <td>...</td>\n      <td>...</td>\n      <td>...</td>\n    </tr>\n    <tr>\n      <td>11118</td>\n      <td>3.515323e+09</td>\n      <td>WHEELER ENERGY LLC</td>\n      <td>22145.0</td>\n      <td>2R</td>\n      <td>MCGOU 'A'</td>\n      <td>1-27</td>\n      <td>5.470900e+05</td>\n      <td>11/28/2007</td>\n      <td>WOODWARD</td>\n      <td>27</td>\n      <td>...</td>\n      <td>22W</td>\n      <td>CT SW SW</td>\n      <td>36.0</td>\n      <td>-100.0</td>\n      <td>3,000</td>\n      <td>1,000</td>\n      <td>COTTAGE GROVE</td>\n      <td>NaN</td>\n      <td>NaN</td>\n      <td>NaN</td>\n    </tr>\n    <tr>\n      <td>11119</td>\n      <td>3.515323e+09</td>\n      <td>WOODWARD IODINE CORPORATION</td>\n      <td>12837.0</td>\n      <td>2D</td>\n      <td>WOODWARD IODINE</td>\n      <td>45</td>\n      <td>1.607380e+09</td>\n      <td>4/19/2016</td>\n      <td>WOODWARD</td>\n      <td>34</td>\n      <td>...</td>\n      <td>20W</td>\n      <td>N2 NW NW NW</td>\n      <td>37.0</td>\n      <td>-99.0</td>\n      <td>1,500</td>\n      <td>19,999</td>\n      <td>ADMIRE, CHASE, COUNCIL GROVE, VIRGIL</td>\n      <td>NaN</td>\n      <td>NaN</td>\n      <td>NaN</td>\n    </tr>\n    <tr>\n      <td>11120</td>\n      <td>3.515323e+09</td>\n      <td>WOODWARD IODINE CORPORATION</td>\n      <td>12837.0</td>\n      <td>2D</td>\n      <td>CEI PETROLEUM, INC.</td>\n      <td>24-1</td>\n      <td>1.607380e+09</td>\n      <td>4/22/2016</td>\n      <td>WOODWARD</td>\n      <td>24</td>\n      <td>...</td>\n      <td>20W</td>\n      <td>C SW SW SW</td>\n      <td>36.0</td>\n      <td>-99.0</td>\n      <td>1,792</td>\n      <td>19,999</td>\n      <td>WABAUNSEE, WOLFCAMPIAN</td>\n      <td>NaN</td>\n      <td>NaN</td>\n      <td>NaN</td>\n    </tr>\n    <tr>\n      <td>11121</td>\n      <td>3.515324e+09</td>\n      <td>SANDRIDGE EXPLORATION &amp; PRODUCTION LLC</td>\n      <td>22281.0</td>\n      <td>2D</td>\n      <td>JIMMIE SWD</td>\n      <td>1-28</td>\n      <td>1.303440e+09</td>\n      <td>12/7/2012</td>\n      <td>WOODWARD</td>\n      <td>28</td>\n      <td>...</td>\n      <td>18W</td>\n      <td>E2 W2 SW SW</td>\n      <td>36.0</td>\n      <td>-99.0</td>\n      <td>2,940</td>\n      <td>60,000</td>\n      <td>MUSSELLEM, OKLAHOMA</td>\n      <td>NaN</td>\n      <td>NaN</td>\n      <td>NaN</td>\n    </tr>\n    <tr>\n      <td>11125</td>\n      <td>NaN</td>\n      <td>NaN</td>\n      <td>NaN</td>\n      <td>NaN</td>\n      <td>NaN</td>\n      <td>NaN</td>\n      <td>NaN</td>\n      <td>NaN</td>\n      <td>NaN</td>\n      <td>NaN</td>\n      <td>...</td>\n      <td>NaN</td>\n      <td>NaN</td>\n      <td>NaN</td>\n      <td>NaN</td>\n      <td>NaN</td>\n      <td>NaN</td>\n      <td>NaN</td>\n      <td>NaN</td>\n      <td>NaN</td>\n      <td>NaN</td>\n    </tr>\n  </tbody>\n</table>\n<p>11075 rows × 21 columns</p>\n</div>",
      "text/plain": "               API#                                Operator  Operator ID  \\\n0      3.500300e+09                   PHOENIX PETROCORP INC      19499.0   \n1      3.500300e+09                CHAMPLIN EXPLORATION INC       4030.0   \n2      3.500321e+09                      LINN OPERATING INC      22182.0   \n3      3.500321e+09  SANDRIDGE EXPLORATION & PRODUCTION LLC      22281.0   \n4      3.500321e+09                CHAMPLIN EXPLORATION INC       4030.0   \n...             ...                                     ...          ...   \n11118  3.515323e+09                      WHEELER ENERGY LLC      22145.0   \n11119  3.515323e+09             WOODWARD IODINE CORPORATION      12837.0   \n11120  3.515323e+09             WOODWARD IODINE CORPORATION      12837.0   \n11121  3.515324e+09  SANDRIDGE EXPLORATION & PRODUCTION LLC      22281.0   \n11125           NaN                                     NaN          NaN   \n\n      WellType                  WellName WellNumber  OrderNumbers  \\\n0           2R  SE EUREKA UNIT-TUCKER #1         21  1.338560e+05   \n1           2R               CHRISTENSEN          1  4.702580e+05   \n2           2R          NE CHEROKEE UNIT         85  3.294260e+05   \n3           2R                     VELMA       2-19  2.816520e+05   \n4           2R                      GRAY         1A  4.702570e+05   \n...        ...                       ...        ...           ...   \n11118       2R                 MCGOU 'A'       1-27  5.470900e+05   \n11119       2D           WOODWARD IODINE         45  1.607380e+09   \n11120       2D       CEI PETROLEUM, INC.       24-1  1.607380e+09   \n11121       2D                JIMMIE SWD       1-28  1.303440e+09   \n11125      NaN                       NaN        NaN           NaN   \n\n      Approval Date    County  Sec  ...  Rng         QQQQ   lat    lng    PSI  \\\n0          9/6/1977   ALFALFA   13  ...  10W      C-SE SE  37.0  -98.0  2,500   \n1        11/27/2002   ALFALFA   21  ...  09W      C-NW NW  37.0  -98.0  2,400   \n2         8/19/1988   ALFALFA   24  ...  11W        SE NE  37.0  -98.0  1,050   \n3         7/11/1985   ALFALFA   19  ...  10W  SW NE NE SW  37.0  -98.0  3,152   \n4        11/27/2002   ALFALFA   20  ...  09W     SE SW NW  37.0  -98.0  1,000   \n...             ...       ...  ...  ...  ...          ...   ...    ...    ...   \n11118    11/28/2007  WOODWARD   27  ...  22W     CT SW SW  36.0 -100.0  3,000   \n11119     4/19/2016  WOODWARD   34  ...  20W  N2 NW NW NW  37.0  -99.0  1,500   \n11120     4/22/2016  WOODWARD   24  ...  20W   C SW SW SW  36.0  -99.0  1,792   \n11121     12/7/2012  WOODWARD   28  ...  18W  E2 W2 SW SW  36.0  -99.0  2,940   \n11125           NaN       NaN  NaN  ...  NaN          NaN   NaN    NaN    NaN   \n\n         BBLS                                   ZONE Unnamed: 18  Unnamed: 19  \\\n0         300                               CHEROKEE         NaN          NaN   \n1       1,000                               RED FORK         NaN          NaN   \n2       1,000                               RED FORK         NaN          NaN   \n3       1,000                               RED FORK         NaN          NaN   \n4       2,400                               RED FORK         NaN          NaN   \n...       ...                                    ...         ...          ...   \n11118   1,000                          COTTAGE GROVE         NaN          NaN   \n11119  19,999   ADMIRE, CHASE, COUNCIL GROVE, VIRGIL         NaN          NaN   \n11120  19,999               WABAUNSEE, WOLFCAMPIAN           NaN          NaN   \n11121  60,000                    MUSSELLEM, OKLAHOMA         NaN          NaN   \n11125     NaN                                    NaN         NaN          NaN   \n\n       Unnamed: 20  \n0              NaN  \n1              NaN  \n2              NaN  \n3              NaN  \n4              NaN  \n...            ...  \n11118          NaN  \n11119          NaN  \n11120          NaN  \n11121          NaN  \n11125          NaN  \n\n[11075 rows x 21 columns]"
     },
     "execution_count": 55,
     "metadata": {},
     "output_type": "execute_result"
    }
   ],
   "source": [
    "# round(wells_df[\"LAT\"],0 )\n",
    "wells_df.rename(columns={'LAT':'lat'}, inplace=True)\n",
    "wells_df['lat']=round(wells_df[\"lat\"],0 )\n",
    "wells_df.rename(columns={'LONG':'lng'}, inplace=True)\n",
    "wells_df['lng']=round(wells_df[\"lng\"],0 )\n",
    "wells_df\n",
    "# https://www.geeksforgeeks.org/how-to-rename-columns-in-pandas-dataframe/\n",
    "# rankings_pd.rename(columns = {'test':'TEST'}, inplace = True) "
   ]
  },
  {
   "cell_type": "code",
   "execution_count": 56,
   "metadata": {},
   "outputs": [],
   "source": [
    "# https://towardsdatascience.com/how-to-easily-join-data-by-location-in-python-spatial-join-197490ff3544\n",
    "# https://towardsdatascience.com/geopandas-101-plot-any-data-with-a-latitude-and-longitude-on-a-map-98e01944b972\n",
    "# import descartes\n",
    "import geopandas as gpd\n",
    "from shapely.geometry import Point\n",
    "\n",
    "# points_1= [ [x,y] for x,y in zip(wells_df['lat'],wells_df['lng'])]\n",
    "# points= [ xy for xy in zip(wells_df['lat'],wells_df['lng'])]\n",
    "# geo_df_1 = gpd.GeoDataFrame(wells_df, geometry=points )\n",
    "\n",
    "# points_2= [ [x,y] for x,y in zip(quakes_df['lat'],quakes_df['lng'])]\n",
    "# points= [ xy for xy in zip(quakes_df['lat'],quakes_df['lng'])]\n",
    "# geo_df_2 = gpd.GeoDataFrame(quakes_df, geometry=points )\n",
    "\n",
    "# wells_df['points'] = points_1\n",
    "# quakes_df['points']= points_2\n",
    "# are not unique????\n",
    "# wells_df['points'].unique\n",
    "# quakes_df['points'].unique"
   ]
  },
  {
   "cell_type": "code",
   "execution_count": 57,
   "metadata": {},
   "outputs": [],
   "source": [
    "# # north oklahoma? \n",
    "# # EPSG:2267\n",
    "# import geopandas as gpd\n",
    "# from shapely.geometry import Point\n",
    "\n",
    "# # creating a geometry column \n",
    "# # geometry = [Point(xy) for xy in zip(cities['longitude'], cities['latitude'])]# Coordinate reference system : WGS84\n",
    "# points= [ Point(xy) for xy in zip(wells_df['lat'],wells_df['lng'])]\n",
    "# # points\n",
    "# crs = {'init': 'epsg:4326'}# Creating a Geographic data frame \n",
    "# gdf = gpd.GeoDataFrame(wells_df, crs=crs, geometry=points)\n",
    "# gdf.plot(marker='*', markersize=0.2)"
   ]
  },
  {
   "cell_type": "code",
   "execution_count": 66,
   "metadata": {},
   "outputs": [
    {
     "data": {
      "application/vnd.jupyter.widget-view+json": {
       "model_id": "4ad3f8ad3f1947289ba6c2efa9fad8ef",
       "version_major": 2,
       "version_minor": 0
      },
      "text/plain": "Figure(layout=FigureLayout(height='420px'))"
     },
     "metadata": {},
     "output_type": "display_data"
    }
   ],
   "source": [
    "\n",
    "# wells_df[wells_df['lng'] == -195]\n",
    "\n",
    "\n",
    "import gmaps\n",
    "locations = quakes_df[['lat','lng']]\n",
    "fig = gmaps.figure()\n",
    "\n",
    "# # Create heat layer, with humidity as weight \n",
    "heat_layer = gmaps.heatmap_layer(locations,  dissipating=True, max_intensity=.5,point_radius=1)\n",
    "\n",
    "# # Add layer\n",
    "fig.add_layer(heat_layer)\n",
    "\n",
    "# # Display figure\n",
    "fig\n",
    "\n"
   ]
  },
  {
   "cell_type": "code",
   "execution_count": null,
   "metadata": {},
   "outputs": [],
   "source": []
  }
 ]
}